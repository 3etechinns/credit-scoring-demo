{
 "cells": [
  {
   "cell_type": "code",
   "execution_count": 1,
   "metadata": {},
   "outputs": [
    {
     "name": "stderr",
     "output_type": "stream",
     "text": [
      "Using TensorFlow backend.\n"
     ]
    }
   ],
   "source": [
    "import pandas as pd, numpy as np\n",
    "import datetime\n",
    "\n",
    "from sklearn.model_selection import train_test_split\n",
    "from sklearn.preprocessing import OneHotEncoder, LabelBinarizer\n",
    "from sklearn.ensemble import GradientBoostingClassifier, RandomForestClassifier\n",
    "from sklearn.linear_model import LogisticRegression\n",
    "from sklearn.tree import DecisionTreeClassifier\n",
    "from sklearn.metrics import roc_curve, auc, confusion_matrix\n",
    "from sklearn.model_selection import GridSearchCV\n",
    "\n",
    "import sklearn\n",
    "from sklearn_pandas import DataFrameMapper\n",
    "\n",
    "import keras\n",
    "from keras.models import Sequential, Model\n",
    "from keras.layers import Dense, Input\n",
    "from keras.wrappers.scikit_learn import KerasClassifier\n",
    "\n",
    "import matplotlib.pyplot as plt"
   ]
  },
  {
   "cell_type": "markdown",
   "metadata": {},
   "source": [
    "Get the data from s3."
   ]
  },
  {
   "cell_type": "code",
   "execution_count": 5,
   "metadata": {},
   "outputs": [
    {
     "name": "stdout",
     "output_type": "stream",
     "text": [
      "--2017-09-13 11:44:57--  https://s3.amazonaws.com/rorodata-datasets/lending-club-data.csv\n",
      "Resolving s3.amazonaws.com (s3.amazonaws.com)... 52.216.81.139\n",
      "Connecting to s3.amazonaws.com (s3.amazonaws.com)|52.216.81.139|:443... connected.\n",
      "HTTP request sent, awaiting response... 200 OK\n",
      "Length: 73529037 (70M) [binary/octet-stream]\n",
      "Saving to: ‘/volumes/data/lending-club-data.csv’\n",
      "\n",
      "/volumes/data/lendi 100%[=====================>]  70.12M  97.6MB/s   in 0.7s   \n",
      "\n",
      "2017-09-13 11:44:58 (97.6 MB/s) - ‘/volumes/data/lending-club-data.csv’ saved [73529037/73529037]\n",
      "\n"
     ]
    }
   ],
   "source": [
    "!wget https://s3.amazonaws.com/rorodata-datasets/lending-club-data.csv -O /volumes/data/lending-club-data.csv"
   ]
  },
  {
   "cell_type": "code",
   "execution_count": 6,
   "metadata": {
    "collapsed": true
   },
   "outputs": [],
   "source": [
    "def getDate(s):\n",
    "    s=str(s)[0:8]\n",
    "    retval=None\n",
    "    try:\n",
    "        retval=datetime.datetime.strptime(s, \"%Y%m%d\")\n",
    "    except:\n",
    "        pass\n",
    "        #print s\n",
    "        \n",
    "    return retval"
   ]
  },
  {
   "cell_type": "code",
   "execution_count": 7,
   "metadata": {},
   "outputs": [
    {
     "name": "stderr",
     "output_type": "stream",
     "text": [
      "/opt/conda/lib/python3.6/site-packages/IPython/core/interactiveshell.py:2717: DtypeWarning: Columns (19,47) have mixed types. Specify dtype option on import or set low_memory=False.\n",
      "  interactivity=interactivity, compiler=compiler, result=result)\n"
     ]
    }
   ],
   "source": [
    "IN_DATAFILE='/volumes/data/lending-club-data.csv'\n",
    "loans = pd.read_csv(IN_DATAFILE, infer_datetime_format = True)\n",
    "\n",
    "# loans['final_date']=loans['final_d'].apply(getDate)\n",
    "\n",
    "# loans['outcome']=(loans['final_date'] < datetime.datetime(2015, 3, 31))\n",
    "\n",
    "\n",
    "# completed_loans=loans[(loans['outcome']==1) & (loans[\"inactive_loans\"]==1)]\n",
    "# completed_loans.shape\n",
    "\n",
    "features = ['grade',                     # grade of the loan (categorical)\n",
    "            'sub_grade_num',             # sub-grade of the loan as a number from 0 to 1\n",
    "            'short_emp',                 # one year or less of employment\n",
    "            'emp_length_num',            # number of years of employment\n",
    "            'home_ownership',            # home_ownership status: own, mortgage or rent\n",
    "            'dti',                       # debt to income ratio\n",
    "            'purpose',                   # the purpose of the loan\n",
    "            'payment_inc_ratio',         # ratio of the monthly payment to income\n",
    "            'delinq_2yrs',               # number of delinquincies \n",
    "            'delinq_2yrs_zero',          # no delinquincies in last 2 years\n",
    "            'inq_last_6mths',            # number of creditor inquiries in last 6 months\n",
    "            'last_delinq_none',          # has borrower had a delinquincy\n",
    "            'last_major_derog_none',     # has borrower had 90 day or worse rating\n",
    "            'open_acc',                  # number of open credit accounts\n",
    "            'pub_rec',                   # number of derogatory public records\n",
    "            'pub_rec_zero',              # no derogatory public records\n",
    "            'revol_util',                # percent of available credit being used\n",
    "           ]\n",
    "response='bad_loans'"
   ]
  },
  {
   "cell_type": "code",
   "execution_count": 9,
   "metadata": {
    "collapsed": true
   },
   "outputs": [],
   "source": [
    "#clean_data=completed_loans[features+[response]].dropna()\n",
    "clean_data=loans[features+[response]].dropna()\n",
    "\n",
    "\n",
    "numerical_cols=['sub_grade_num', 'short_emp', 'emp_length_num','dti', 'payment_inc_ratio', 'delinq_2yrs', \\\n",
    "                'delinq_2yrs_zero', 'inq_last_6mths', 'last_delinq_none', 'last_major_derog_none', 'open_acc',\\\n",
    "                'pub_rec', 'pub_rec_zero','revol_util']\n",
    "\n",
    "categorical_cols=['grade', 'home_ownership', 'purpose']\n",
    "\n",
    "mapper = DataFrameMapper([\n",
    "('grade',sklearn.preprocessing.LabelBinarizer()),\n",
    "('home_ownership', sklearn.preprocessing.LabelBinarizer()),\n",
    "('purpose', sklearn.preprocessing.LabelBinarizer()),\n",
    "        \n",
    "    ])\n",
    "\n",
    "X1=mapper.fit_transform(clean_data)\n",
    "\n",
    "\n",
    "X2=np.array(clean_data[numerical_cols])\n",
    "\n",
    "\n",
    "X = np.hstack((X1,X2)) #Combines X1 and X2 side by side, i.e. stacks them horizontally\n",
    "y=np.array(clean_data['bad_loans'])\n",
    "\n",
    "X_train, X_test, y_train, y_test = train_test_split(X, y, test_size=0.33, random_state=100, stratify=y)"
   ]
  },
  {
   "cell_type": "code",
   "execution_count": 10,
   "metadata": {},
   "outputs": [
    {
     "data": {
      "text/plain": [
       "0.81184643148500657"
      ]
     },
     "execution_count": 10,
     "metadata": {},
     "output_type": "execute_result"
    }
   ],
   "source": [
    "log_lm = LogisticRegression()\n",
    "log_lm.fit(X_train, y_train)\n",
    "log_lm.score(X_test, y_test)"
   ]
  },
  {
   "cell_type": "code",
   "execution_count": 11,
   "metadata": {
    "collapsed": true
   },
   "outputs": [],
   "source": [
    "y_pred = log_lm.predict_proba(X_test)[:, 1]\n",
    "fpr_rf_lm, tpr_rf_lm, _ = roc_curve(y_test, y_pred)"
   ]
  },
  {
   "cell_type": "code",
   "execution_count": 12,
   "metadata": {},
   "outputs": [
    {
     "data": {
      "text/plain": [
       "0.81142616993399419"
      ]
     },
     "execution_count": 12,
     "metadata": {},
     "output_type": "execute_result"
    }
   ],
   "source": [
    "grd = GradientBoostingClassifier(n_estimators=100)\n",
    "grd.fit(X_train, y_train)\n",
    "grd.score(X_test, y_test)"
   ]
  },
  {
   "cell_type": "code",
   "execution_count": 13,
   "metadata": {},
   "outputs": [
    {
     "name": "stdout",
     "output_type": "stream",
     "text": [
      "0.810412597958\n",
      "CPU times: user 17.5 s, sys: 0 ns, total: 17.5 s\n",
      "Wall time: 17.5 s\n"
     ]
    }
   ],
   "source": [
    "%%time\n",
    "dtree=DecisionTreeClassifier()\n",
    "parameters = {'max_depth':[5, 10, 15, 20, 25, 32]}\n",
    "dtree_gs = GridSearchCV(dtree, parameters, cv=5)\n",
    "dtree_gs.fit(X_train, y_train)\n",
    "print(dtree_gs.score(X_test, y_test))"
   ]
  },
  {
   "cell_type": "code",
   "execution_count": 14,
   "metadata": {},
   "outputs": [
    {
     "name": "stdout",
     "output_type": "stream",
     "text": [
      "0.811178957257\n",
      "CPU times: user 13.2 s, sys: 4 ms, total: 13.2 s\n",
      "Wall time: 13.2 s\n"
     ]
    }
   ],
   "source": [
    "%%time\n",
    "rf=RandomForestClassifier()\n",
    "parameters = {'max_depth':[5, 15], 'n_estimators':[10,30]}\n",
    "rf_gs = GridSearchCV(rf, parameters)\n",
    "rf_gs.fit(X_train, y_train)\n",
    "print(rf_gs.score(X_test, y_test))"
   ]
  },
  {
   "cell_type": "code",
   "execution_count": 15,
   "metadata": {
    "collapsed": true
   },
   "outputs": [],
   "source": [
    "a={ 'delinq_2yrs': 0.0,\n",
    " 'delinq_2yrs_zero': 1.0,\n",
    " 'dti': 8.7200000000000006,\n",
    " 'emp_length_num': 0,\n",
    " 'grade': 'F',\n",
    " 'home_ownership': 'RENT',\n",
    " 'inq_last_6mths': 3.0,\n",
    " 'last_delinq_none': 1,\n",
    " 'last_major_derog_none': 1,\n",
    " 'open_acc': 2.0,\n",
    " 'payment_inc_ratio': 4.5,\n",
    " 'pub_rec': 0.0,\n",
    " 'pub_rec_zero': 1.0,\n",
    " 'purpose': 'vacation',\n",
    " 'revol_util': 98.5,\n",
    " 'short_emp': 0,\n",
    " 'sub_grade_num': 1.0}"
   ]
  },
  {
   "cell_type": "code",
   "execution_count": 20,
   "metadata": {
    "collapsed": true
   },
   "outputs": [],
   "source": [
    "def preProcess(a):\n",
    "    data=list(a.values())\n",
    "    colz=list(a.keys())\n",
    "    dfx=pd.DataFrame(data=[data], columns=colz)\n",
    "    dfx\n",
    "\n",
    "    XX1=mapper.transform(dfx)\n",
    "    XX2=dfx[numerical_cols]\n",
    "    XX = np.hstack((XX1,XX2))\n",
    "    return XX\n",
    "\n",
    "def predictProb_LogisticReg(XX, model):\n",
    "    try:\n",
    "        return model.predict_proba(XX)[:,1][0]\n",
    "    except:\n",
    "        return -1\n",
    "    \n",
    "def predictProb_GBoost(XX, model):\n",
    "    try:\n",
    "        return model.predict_proba(XX)[:,1][0]\n",
    "    except:\n",
    "        return -1\n",
    "    \n",
    "def evaluateApplication(appl, log_lm, grd, dtree_model):\n",
    "    XX=preProcess(appl) \n",
    "    \n",
    "    results={}\n",
    "    results['Logistic_Regression']=predictProb_LogisticReg(XX, log_lm)\n",
    "    results['Gradient_Boosting']=predictProb_GBoost(XX, grd)\n",
    "    return results"
   ]
  },
  {
   "cell_type": "code",
   "execution_count": 21,
   "metadata": {},
   "outputs": [
    {
     "data": {
      "text/plain": [
       "{'Gradient_Boosting': 0.53439917441066676,\n",
       " 'Logistic_Regression': 0.48829986303342249}"
      ]
     },
     "execution_count": 21,
     "metadata": {},
     "output_type": "execute_result"
    }
   ],
   "source": [
    "evaluateApplication(a, log_lm, grd, dtree_gs)"
   ]
  },
  {
   "cell_type": "code",
   "execution_count": null,
   "metadata": {
    "collapsed": true
   },
   "outputs": [],
   "source": []
  },
  {
   "cell_type": "code",
   "execution_count": 23,
   "metadata": {},
   "outputs": [],
   "source": [
    "y_pred_l= log_lm.predict_proba(X_test)[:,1]\n",
    "y_pred_g= grd.predict_proba(X_test)[:,1]\n",
    "y_pred_dt=dtree_gs.predict_proba(X_test)[:,1]\n",
    "y_pred_rf=rf_gs.predict_proba(X_test)[:,1]\n",
    "fpr_log, tpr_log, _ = roc_curve(y_test, y_pred_l)\n",
    "fpr_grd, tpr_grd, _ = roc_curve(y_test, y_pred_g)\n",
    "fpr_dt, tpr_dt, _ = roc_curve(y_test, y_pred_dt)\n",
    "fpr_rf, tpr_rf, _ = roc_curve(y_test, y_pred_rf)"
   ]
  },
  {
   "cell_type": "code",
   "execution_count": null,
   "metadata": {
    "collapsed": true
   },
   "outputs": [],
   "source": []
  },
  {
   "cell_type": "code",
   "execution_count": 24,
   "metadata": {},
   "outputs": [
    {
     "data": {
      "image/png": "[encoded data removed]",
      "text/plain": [
       "<matplotlib.figure.Figure at 0x7ffa97fa45f8>"
      ]
     },
     "metadata": {},
     "output_type": "display_data"
    }
   ],
   "source": [
    "%matplotlib inline\n",
    "plt.figure(1)\n",
    "plt.plot([0, 1], [0, 1], 'k--')\n",
    "plt.plot(fpr_log, tpr_log, label='LR')\n",
    "plt.plot(fpr_grd, tpr_grd, label='GBT')\n",
    "plt.plot(fpr_dt, tpr_dt, label='DT')\n",
    "plt.plot(fpr_rf, tpr_rf, label='RF')\n",
    "\n",
    "plt.xlabel('False positive rate')\n",
    "plt.ylabel('True positive rate')\n",
    "plt.title('ROC curve')\n",
    "plt.legend(loc='best')\n",
    "plt.savefig('temp.jpg')\n",
    "plt.show()"
   ]
  },
  {
   "cell_type": "code",
   "execution_count": 25,
   "metadata": {
    "collapsed": true
   },
   "outputs": [],
   "source": [
    "xa=plt.imread('temp.jpg')\n"
   ]
  },
  {
   "cell_type": "code",
   "execution_count": 26,
   "metadata": {},
   "outputs": [
    {
     "data": {
      "text/plain": [
       "<matplotlib.image.AxesImage at 0x7ffa97ced0f0>"
      ]
     },
     "execution_count": 26,
     "metadata": {},
     "output_type": "execute_result"
    },
    {
     "data": {
      "image/png": "[encoded data removed]",
      "text/plain": [
       "<matplotlib.figure.Figure at 0x7ffa97cc6470>"
      ]
     },
     "metadata": {},
     "output_type": "display_data"
    }
   ],
   "source": [
    "plt.imshow(xa)"
   ]
  },
  {
   "cell_type": "code",
   "execution_count": null,
   "metadata": {
    "collapsed": true
   },
   "outputs": [],
   "source": []
  }
 ],
 "metadata": {
  "kernelspec": {
   "display_name": "Python 3",
   "language": "python",
   "name": "python3"
  },
  "language_info": {
   "codemirror_mode": {
    "name": "ipython",
    "version": 3
   },
   "file_extension": ".py",
   "mimetype": "text/x-python",
   "name": "python",
   "nbconvert_exporter": "python",
   "pygments_lexer": "ipython3",
   "version": "3.6.1"
  }
 },
 "nbformat": 4,
 "nbformat_minor": 1
}
